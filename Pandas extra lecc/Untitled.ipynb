{
 "cells": [
  {
   "cell_type": "code",
   "execution_count": null,
   "id": "9aa1198b",
   "metadata": {},
   "outputs": [],
   "source": [
    "group.agg([len,sum])"
   ]
  },
  {
   "cell_type": "code",
   "execution_count": null,
   "id": "237fd7e9",
   "metadata": {},
   "outputs": [],
   "source": [
    "pd.timestamp"
   ]
  },
  {
   "cell_type": "code",
   "execution_count": null,
   "id": "444b6c38",
   "metadata": {},
   "outputs": [],
   "source": [
    "df.reindex(df1.index,metho='pad')"
   ]
  },
  {
   "cell_type": "code",
   "execution_count": null,
   "id": "653582d3",
   "metadata": {},
   "outputs": [],
   "source": [
    "df.set_index,as _index"
   ]
  },
  {
   "cell_type": "code",
   "execution_count": null,
   "id": "4f580d30",
   "metadata": {},
   "outputs": [],
   "source": []
  },
  {
   "cell_type": "code",
   "execution_count": null,
   "id": "40082f65",
   "metadata": {},
   "outputs": [],
   "source": []
  }
 ],
 "metadata": {
  "kernelspec": {
   "display_name": "Python 3 (ipykernel)",
   "language": "python",
   "name": "python3"
  },
  "language_info": {
   "codemirror_mode": {
    "name": "ipython",
    "version": 3
   },
   "file_extension": ".py",
   "mimetype": "text/x-python",
   "name": "python",
   "nbconvert_exporter": "python",
   "pygments_lexer": "ipython3",
   "version": "3.9.12"
  }
 },
 "nbformat": 4,
 "nbformat_minor": 5
}
